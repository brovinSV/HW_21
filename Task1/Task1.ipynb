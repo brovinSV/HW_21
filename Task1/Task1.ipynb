{
 "cells": [
  {
   "cell_type": "code",
   "execution_count": null,
   "id": "10e54deb",
   "metadata": {},
   "outputs": [],
   "source": [
    "\"\"\"\n",
    "Напишіть клас для роботи з матрицями. Клас повинен створювати об'єкт матриць\n",
    "з вкладених списків, виводити матриці на друк, виконувати операції додавання,\n",
    "віднімання, множення на число, множення на матрицю, транспонування.\n",
    "Передбачте, можливість приведення матриць для операцій додавання і віднімання,\n",
    "та обробку виключних ситуацій для операції множення матриці на матрицю.\n",
    "\"\"\""
   ]
  },
  {
   "cell_type": "code",
   "execution_count": 92,
   "id": "7695bac2",
   "metadata": {},
   "outputs": [],
   "source": [
    "class Matrix:\n",
    "    def __init__(self, matrix_list):\n",
    "        self.matrix = matrix_list\n",
    "        self.rows = len(matrix_list)\n",
    "        self.cols = len(matrix_list[0])\n",
    "        \n",
    "    # метод, який перетворює об'єкт матриці на рядок\n",
    "    def __str__(self):\n",
    "        matrix_str = ''\n",
    "        for row in self.matrix:\n",
    "            matrix_str += ' '.join(map(str, row)) + '\\n'\n",
    "        return matrix_str\n",
    "    \n",
    "    \n",
    "    # Метод pad() додає рядки, що бракують, і стовпці, заповнюючи їх нулями. \n",
    "    # Потім, якщо розмірності матриць не збігаються, вони наводяться до однакової \n",
    "    # розмірності методом pad(). Потім, якщо розмірності матриць збігаються, \n",
    "    # виконуються операції додавання або віднімання.\n",
    "    def pad(self, rows, cols):\n",
    "        # додавання рядків, що відсутні\n",
    "        while len(self.matrix) < rows:\n",
    "            self.matrix.append([0] * len(self.matrix[0]))\n",
    "        \n",
    "        # додавання відсутніх стовпців\n",
    "        while len(self.matrix[0]) < cols:\n",
    "            for i in range(len(self.matrix)):\n",
    "                self.matrix[i].append(0)\n",
    "                \n",
    "    # метод, який складає матрицю з іншою матрицею чи числом, і повертає нову матрицю\n",
    "    def __add__(self, other):\n",
    "        # визначення розмірності результуючої матриці\n",
    "        rows = max(len(self.matrix), len(other.matrix))\n",
    "        cols = max(len(self.matrix[0]), len(other.matrix[0]))\n",
    "        \n",
    "        # приведення матриць до однакової розмірності\n",
    "        self.pad(rows, cols)\n",
    "        other.pad(rows, cols)\n",
    "        \n",
    "        #if self.rows != other.rows or self.cols != other.cols:\n",
    "        #    raise ValueError('Matrices must have the same dimensions to add them')\n",
    "        result = []\n",
    "        for i in range(self.rows):\n",
    "            row = []\n",
    "            for j in range(self.cols):\n",
    "                row.append(self.matrix[i][j] + other.matrix[i][j])\n",
    "            result.append(row)\n",
    "        return Matrix(result)\n",
    "    \n",
    "    # метод, який віднімає матрицю з іншої матриці та повертає нову матрицю\n",
    "    def __sub__(self, other):\n",
    "        # визначення розмірності результуючої матриці\n",
    "        rows = max(len(self.matrix), len(other.matrix))\n",
    "        cols = max(len(self.matrix[0]), len(other.matrix[0]))\n",
    "        \n",
    "        # приведення матриць до однакової розмірності\n",
    "        self.pad(rows, cols)\n",
    "        other.pad(rows, cols)\n",
    "        \n",
    "        #if self.rows != other.rows or self.cols != other.cols:\n",
    "        #    raise ValueError('Matrices must have the same dimensions to subtract them')\n",
    "        result = []\n",
    "        for i in range(self.rows):\n",
    "            row = []\n",
    "            for j in range(self.cols):\n",
    "                row.append(self.matrix[i][j] - other.matrix[i][j])\n",
    "            result.append(row)\n",
    "        return Matrix(result)\n",
    "    \n",
    "    # метод, який множить матрицю на іншу матрицю або на число і повертає нову матрицю\n",
    "    def __mul__(self, other):\n",
    "        if isinstance(other, Matrix):\n",
    "            if self.cols != other.rows:\n",
    "                raise ValueError('Number of columns in the first matrix must be equal to the number of rows in the second matrix')\n",
    "            result = []\n",
    "            for i in range(self.rows):\n",
    "                row = []\n",
    "                for j in range(other.cols):\n",
    "                    element = 0\n",
    "                    for k in range(self.cols):\n",
    "                        element += self.matrix[i][k] * other.matrix[k][j]\n",
    "                    row.append(element)\n",
    "                result.append(row)\n",
    "            return Matrix(result)\n",
    "        elif isinstance(other, (int, float)):\n",
    "            result = []\n",
    "            for i in range(self.rows):\n",
    "                row = []\n",
    "                for j in range(self.cols):\n",
    "                    row.append(self.matrix[i][j] * other)\n",
    "                result.append(row)\n",
    "            return Matrix(result)\n",
    "        \n",
    "       # метод, який транспонує матрицю та повертає нову матрицю\n",
    "    def transpose(self):\n",
    "        result = []\n",
    "        for i in range(self.cols):\n",
    "            row = []\n",
    "            for j in range(self.rows):\n",
    "                row.append(self.matrix[j][i])\n",
    "            result.append(row)\n",
    "        return Matrix(result) \n",
    "        "
   ]
  },
  {
   "cell_type": "code",
   "execution_count": 93,
   "id": "21db794a",
   "metadata": {},
   "outputs": [],
   "source": [
    "# Створення матриц\n",
    "m1 = Matrix([[1, 2, 7], [3, 4, 9]])\n",
    "m2 = Matrix([[5, 6], [7, 8]])"
   ]
  },
  {
   "cell_type": "code",
   "execution_count": 94,
   "id": "4266de37",
   "metadata": {},
   "outputs": [
    {
     "name": "stdout",
     "output_type": "stream",
     "text": [
      "1 2 7\n",
      "3 4 9\n",
      "\n"
     ]
    }
   ],
   "source": [
    "# Виведення матриці на друк\n",
    "print(m1)"
   ]
  },
  {
   "cell_type": "code",
   "execution_count": 95,
   "id": "13c65cf9",
   "metadata": {},
   "outputs": [
    {
     "name": "stdout",
     "output_type": "stream",
     "text": [
      "6 8 7\n",
      "10 12 9\n",
      "\n"
     ]
    }
   ],
   "source": [
    "# Додавання матриць\n",
    "matrix_sum = m1 + m2\n",
    "print(matrix_sum)"
   ]
  },
  {
   "cell_type": "code",
   "execution_count": 96,
   "id": "5347263d",
   "metadata": {},
   "outputs": [
    {
     "name": "stdout",
     "output_type": "stream",
     "text": [
      "4 4\n",
      "4 4\n",
      "\n"
     ]
    }
   ],
   "source": [
    "# Віднімання матриць\n",
    "matrix_diff = m2 - m1\n",
    "print(matrix_diff)"
   ]
  },
  {
   "cell_type": "code",
   "execution_count": 97,
   "id": "c56ab322",
   "metadata": {},
   "outputs": [
    {
     "name": "stdout",
     "output_type": "stream",
     "text": [
      "2 4 14\n",
      "6 8 18\n",
      "\n"
     ]
    }
   ],
   "source": [
    "# Множення матриці на число\n",
    "matrix_scalar_mult = m1 * 2\n",
    "print(matrix_scalar_mult)"
   ]
  },
  {
   "cell_type": "code",
   "execution_count": 74,
   "id": "8b529d09",
   "metadata": {},
   "outputs": [
    {
     "name": "stdout",
     "output_type": "stream",
     "text": [
      "59 68\n",
      "83 96\n",
      "\n"
     ]
    }
   ],
   "source": [
    "# Множення матриць\n",
    "matrix_mult = m1 * m2\n",
    "print(matrix_mult)"
   ]
  },
  {
   "cell_type": "code",
   "execution_count": 98,
   "id": "676b8030",
   "metadata": {},
   "outputs": [
    {
     "name": "stdout",
     "output_type": "stream",
     "text": [
      "1 3\n",
      "2 4\n",
      "7 9\n",
      "\n"
     ]
    }
   ],
   "source": [
    "# Транспонування матриці\n",
    "matrix_transpose = m1.transpose()\n",
    "print(matrix_transpose)"
   ]
  },
  {
   "cell_type": "code",
   "execution_count": null,
   "id": "c913f0ad",
   "metadata": {},
   "outputs": [],
   "source": []
  }
 ],
 "metadata": {
  "kernelspec": {
   "display_name": "Python 3",
   "language": "python",
   "name": "python3"
  },
  "language_info": {
   "codemirror_mode": {
    "name": "ipython",
    "version": 3
   },
   "file_extension": ".py",
   "mimetype": "text/x-python",
   "name": "python",
   "nbconvert_exporter": "python",
   "pygments_lexer": "ipython3",
   "version": "3.8.10"
  }
 },
 "nbformat": 4,
 "nbformat_minor": 5
}
