{
 "cells": [
  {
   "cell_type": "code",
   "execution_count": null,
   "id": "7b0f989a",
   "metadata": {},
   "outputs": [],
   "source": [
    "\"\"\"\n",
    "Напишіть код, який здійснює процес перетворення матриці,\n",
    "наведений у прикладі з презентації.\n",
    "\"\"\""
   ]
  },
  {
   "cell_type": "code",
   "execution_count": 1,
   "id": "4e07ffc5",
   "metadata": {},
   "outputs": [],
   "source": [
    "import numpy as np"
   ]
  },
  {
   "cell_type": "code",
   "execution_count": 30,
   "id": "8ef6da5a",
   "metadata": {},
   "outputs": [],
   "source": [
    "matrix = np.array([[4, 2, 0],\n",
    "                   [1, 3, 2],\n",
    "                   [-1, 3, 10]])"
   ]
  },
  {
   "cell_type": "code",
   "execution_count": 31,
   "id": "0dda6c0c",
   "metadata": {},
   "outputs": [],
   "source": [
    "# Змінюємо місцями перший і другий рядки\n",
    "matrix[[0, 1]] = matrix[[1, 0]]"
   ]
  },
  {
   "cell_type": "code",
   "execution_count": 32,
   "id": "fb08434d",
   "metadata": {},
   "outputs": [
    {
     "name": "stdout",
     "output_type": "stream",
     "text": [
      "[[ 1  3  2]\n",
      " [ 4  2  0]\n",
      " [-1  3 10]]\n"
     ]
    }
   ],
   "source": [
    "print(matrix)"
   ]
  },
  {
   "cell_type": "code",
   "execution_count": 33,
   "id": "ff474db7",
   "metadata": {},
   "outputs": [],
   "source": [
    "# Додаємо перший рядок, помножений на -4, до другого рядка\n",
    "matrix[1] += -4 * matrix[0]"
   ]
  },
  {
   "cell_type": "code",
   "execution_count": 34,
   "id": "b3b5a92c",
   "metadata": {},
   "outputs": [],
   "source": [
    "# Додаємо перший рядок до третього рядка\n",
    "matrix[2] += matrix[0]"
   ]
  },
  {
   "cell_type": "code",
   "execution_count": 35,
   "id": "bd45bdd4",
   "metadata": {},
   "outputs": [
    {
     "name": "stdout",
     "output_type": "stream",
     "text": [
      "[[  1   3   2]\n",
      " [  0 -10  -8]\n",
      " [  0   6  12]]\n"
     ]
    }
   ],
   "source": [
    "print(matrix)"
   ]
  },
  {
   "cell_type": "code",
   "execution_count": 36,
   "id": "1a054676",
   "metadata": {},
   "outputs": [],
   "source": [
    "# Ділимо другий рядок на -2\n",
    "matrix[1] = matrix[1].astype(float)/-2"
   ]
  },
  {
   "cell_type": "code",
   "execution_count": 37,
   "id": "245f275e",
   "metadata": {},
   "outputs": [],
   "source": [
    "# Ділимо третій рядок на 6\n",
    "matrix[2] = matrix[2].astype(float)/6"
   ]
  },
  {
   "cell_type": "code",
   "execution_count": 38,
   "id": "43cc0a35",
   "metadata": {},
   "outputs": [
    {
     "name": "stdout",
     "output_type": "stream",
     "text": [
      "[[1 3 2]\n",
      " [0 5 4]\n",
      " [0 1 2]]\n"
     ]
    }
   ],
   "source": [
    "print(matrix)"
   ]
  },
  {
   "cell_type": "code",
   "execution_count": 39,
   "id": "507a885e",
   "metadata": {},
   "outputs": [],
   "source": [
    "# Змінюємо місцями 2-й і 3-й рядки\n",
    "matrix[[1, 2]] = matrix[[2, 1]]"
   ]
  },
  {
   "cell_type": "code",
   "execution_count": 40,
   "id": "32e6035d",
   "metadata": {},
   "outputs": [
    {
     "name": "stdout",
     "output_type": "stream",
     "text": [
      "[[1 3 2]\n",
      " [0 1 2]\n",
      " [0 5 4]]\n"
     ]
    }
   ],
   "source": [
    "print(matrix)"
   ]
  },
  {
   "cell_type": "code",
   "execution_count": 41,
   "id": "cc6bf4e6",
   "metadata": {},
   "outputs": [],
   "source": [
    "# Додаємо до 3-го рядка 2-й, помножений на -5\n",
    "matrix[2] += matrix[1] * (-5)"
   ]
  },
  {
   "cell_type": "code",
   "execution_count": 42,
   "id": "4c13727d",
   "metadata": {},
   "outputs": [
    {
     "name": "stdout",
     "output_type": "stream",
     "text": [
      "[[ 1  3  2]\n",
      " [ 0  1  2]\n",
      " [ 0  0 -6]]\n"
     ]
    }
   ],
   "source": [
    "print(matrix)"
   ]
  },
  {
   "cell_type": "code",
   "execution_count": null,
   "id": "18acb63d",
   "metadata": {},
   "outputs": [],
   "source": []
  }
 ],
 "metadata": {
  "kernelspec": {
   "display_name": "Python 3",
   "language": "python",
   "name": "python3"
  },
  "language_info": {
   "codemirror_mode": {
    "name": "ipython",
    "version": 3
   },
   "file_extension": ".py",
   "mimetype": "text/x-python",
   "name": "python",
   "nbconvert_exporter": "python",
   "pygments_lexer": "ipython3",
   "version": "3.8.10"
  }
 },
 "nbformat": 4,
 "nbformat_minor": 5
}
